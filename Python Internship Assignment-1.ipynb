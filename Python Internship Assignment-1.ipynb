{
 "cells": [
  {
   "cell_type": "markdown",
   "metadata": {},
   "source": [
    "___\n",
    "\n",
    "<a href='https://viqasys.com/wp-content/uploads/2021/07/ns1.png'><img src='https://viqasys.com/wp-content/uploads/2021/07/ns1.png'/></a>\n",
    "___\n",
    "<center><em>Content Copyright VIQASYS INNOVATIONS PVT LTD.</em></center>\n",
    "\n",
    "# Assignment 1"
   ]
  },
  {
   "cell_type": "markdown",
   "metadata": {},
   "source": [
    "# Question 1\n",
    "\n",
    "In the below elements, identify which of them are values or expressions. Values can be integers or strings, while expressions will be mathematical operators or combinations thereof.\n",
    "'hello', \n",
    "-87., ), o, lu, alu, ssion)'(Value))str\" (Value)"
   ]
  },
  {
   "cell_type": "code",
   "execution_count": null,
   "metadata": {},
   "outputs": [],
   "source": [
    "Values:\n",
    "'hello' (string)\n",
    "-87. (float)\n",
    "\n",
    "Expressions:\n",
    ") (closing parenthesis)\n",
    "o (variable)\n",
    "lu (variable)\n",
    "alu (variable)\n",
    "ssion (variable)\n",
    ")'(Value) (combination of string and variable)\n",
    ")str\" (combination of string and function call)\n",
    "(Value) (expression within parentheses)"
   ]
  },
  {
   "cell_type": "markdown",
   "metadata": {},
   "source": [
    "## Question 2\n",
    "\n",
    "Explain the difference between a string and a variable.\n"
   ]
  },
  {
   "cell_type": "code",
   "execution_count": null,
   "metadata": {},
   "outputs": [],
   "source": [
    "A string is a type of data representing textual information in programming. It consists of a sequence of characters, such as letters, numbers, symbols, and spaces, enclosed within single quotes (' ') or double quotes (\" \"). Strings are used to store and manipulate text-based data.\n",
    "\n",
    "A variable is a symbolic name that represents a memory location where data can be stored and accessed within a program. Unlike strings, which are a specific type of data representing text, variables can hold various types of data, including strings. Variables serve as placeholders for storing and managing data of different types throughout the execution of a program."
   ]
  },
  {
   "cell_type": "markdown",
   "metadata": {},
   "source": [
    "## Question 3\n",
    "Describe three different data types commonly used in programming"
   ]
  },
  {
   "cell_type": "code",
   "execution_count": null,
   "metadata": {},
   "outputs": [],
   "source": [
    "Integer (int):\n",
    "Integers represent whole numbers, both positive and negative, without any fractional parts or decimal points.\n",
    "Examples of integers include -3, 0, 42, and 1001.\n",
    "In most programming languages, integers have a finite range determined by the number of bits used to represent them, which can vary depending on the language and platform.\n",
    "\n",
    "String (str):\n",
    "Strings are sequences of characters, typically used to represent text.\n",
    "Strings are usually enclosed within single quotes (' ') or double quotes (\" \") in most programming languages.\n",
    "Examples of strings include \"Hello, World!\", 'Python', and '1234'.\n",
    "Strings are immutable in many programming languages, meaning once they are created, their contents cannot be changed.\n",
    "\n",
    "Boolean (bool):\n",
    "Booleans represent logical values indicating either true or false.\n",
    "Booleans are often used in conditional statements and expressions to control program flow.\n",
    "Examples of boolean values include True and False.\n",
    "Booleans are fundamental for making decisions in programming, such as in if statements, while loops, and logical operations"
   ]
  },
  {
   "cell_type": "markdown",
   "metadata": {},
   "source": [
    "## Question 4\n",
    "What is an expression made up of? What is the general purpose of expressions?\n"
   ]
  },
  {
   "cell_type": "code",
   "execution_count": null,
   "metadata": {},
   "outputs": [],
   "source": [
    "An expression in programming is made up of one or more operands combined with operators to produce a value. Here are the key components typically found in expressions:\n",
    "\n",
    "Operands:\n",
    "These are the values or variables involved in the expression. Operands can be literals (constants), variables, function calls, or other expressions.\n",
    "\n",
    "Operators:\n",
    "Operators define the operation to be performed on the operands. They can be arithmetic operators (such as + for addition, - for subtraction, * for multiplication, / for division), comparison operators (such as == for equality, != for inequality, > for greater than, < for less than), logical operators (such as && for logical AND, || for logical OR), and many others depending on the programming language.\n",
    "\n",
    "Parentheses:\n",
    "Parentheses are used to specify the order of operations in an expression. They can be used to group parts of an expression and dictate the sequence in which operations are performed.\n"
   ]
  },
  {
   "cell_type": "markdown",
   "metadata": {},
   "source": [
    "## Question 5\n",
    "\n",
    "Explain the difference between an expression and a statement, using examples if necessary."
   ]
  },
  {
   "cell_type": "code",
   "execution_count": null,
   "metadata": {},
   "outputs": [],
   "source": [
    "Expression:\n",
    "An expression is a combination of values, variables, operators, and function calls that evaluates to a single value.\n",
    "Expressions can be simple, like a single constant or variable, or complex, involving multiple operators and operands.\n",
    "Examples of expressions:\n",
    "2 + 3 (evaluates to 5)\n",
    "x * 5 (evaluates to the value of variable x multiplied by 5)\n",
    "3 > 1 (evaluates to True)\n",
    "\n",
    "Statement:\n",
    "A statement is a complete line of code that performs some action. It can be a declaration, assignment, or control flow construct that doesn't necessarily produce a value.\n",
    "Unlike expressions, statements do not necessarily return a value.\n",
    "Examples of statements:\n",
    "    \n",
    "Assignment statement:\n",
    "x = 5 (assigns the value 5 to variable x)\n",
    "\n",
    "\n",
    "Conditional statement:\n",
    "if x > 0:\n",
    "    print(\"x is positive\")\n",
    "    \n",
    "Loop statement:\n",
    "for i in range(5):\n",
    "    print(i)"
   ]
  },
  {
   "cell_type": "markdown",
   "metadata": {},
   "source": [
    "## Question 6\n",
    "After running the following code, what does the variable \"bacon\" contain?\n",
    "\n",
    "bacon = 22 <br>\n",
    "\n",
    "bacon + 1"
   ]
  },
  {
   "cell_type": "code",
   "execution_count": null,
   "metadata": {},
   "outputs": [],
   "source": [
    "The line bacon = 22 assigns the value 22 to the variable \"bacon\".\n",
    "The expression bacon + 1 evaluates to 22 + 1, which is 23. However, this expression is not assigned to any variable, so it doesn't affect the value stored in \"bacon\".\n",
    "\n"
   ]
  },
  {
   "cell_type": "markdown",
   "metadata": {},
   "source": [
    "## Question 7\n",
    "Determine the values of the following two terms:<br>\n",
    "'spam' + 'spamspam'<br>\n",
    "'spam' * 3\n",
    "\n"
   ]
  },
  {
   "cell_type": "code",
   "execution_count": null,
   "metadata": {},
   "outputs": [],
   "source": [
    "'spam' + 'spamspam':\n",
    "This term involves concatenating two strings: 'spam' and 'spamspam'.\n",
    "Concatenating two strings means joining them together end-to-end.\n",
    "So, 'spam' + 'spamspam' results in 'spamspamspam'.\n",
    "\n",
    "\n",
    "'spam' * 3:\n",
    "This term involves multiplying the string 'spam' by the integer 3.\n",
    "Multiplying a string by an integer means repeating the string multiple times.\n",
    "So, 'spam' * 3 results in 'spamspamspam'.\n"
   ]
  },
  {
   "cell_type": "markdown",
   "metadata": {},
   "source": [
    "## Question 8\n",
    "\n",
    "Why is \"eggs\" a valid variable name while \"100\" is invalid?"
   ]
  },
  {
   "cell_type": "code",
   "execution_count": null,
   "metadata": {},
   "outputs": [],
   "source": [
    "Here's why \"eggs\" is a valid variable name while \"100\" is invalid:\n",
    "\n",
    "Starting Character:\n",
    "Variable names typically cannot start with a digit. They must start with a letter (a-z, A-Z) or an underscore (_).\n",
    "\"eggs\" starts with the letter 'e', which is allowed, while \"100\" starts with a digit, which is not allowed.\n",
    "\n",
    "Character Set:\n",
    "Variable names can consist of letters (both uppercase and lowercase), digits (after the first character), and underscores.\n",
    "\"eggs\" contains only letters, which is allowed, while \"100\" contains only digits, which is not allowed.\n",
    "\n",
    "Naming Convention:\n",
    "While \"eggs\" satisfies the rules for variable names, it's worth mentioning that meaningful and descriptive variable names are preferred for clarity and readability in code.\n",
    "Variables like \"eggs\" are more meaningful and descriptive compared to just numeric values like \"100\"."
   ]
  },
  {
   "cell_type": "markdown",
   "metadata": {},
   "source": [
    "## Question 9\n",
    "\n",
    "List three functions that can be used to obtain the integer, floating-point number, or string version of a value."
   ]
  },
  {
   "cell_type": "code",
   "execution_count": null,
   "metadata": {},
   "outputs": [],
   "source": [
    "The three commonly used functions to obtain the integer, floating-point number, or string version of a value:\n",
    "\n",
    "Integer Conversion Function:\n",
    "int(): This function can be used to convert a value to an integer. It takes a single argument and returns an integer representation of that value. If the argument cannot be converted to an integer, it raises a ValueError.\n",
    "Example:\n",
    "value = 10.5\n",
    "integer_value = int(value)\n",
    "print(integer_value)  # Output: 10\n",
    "\n",
    "\n",
    "Floating-Point Conversion Function:\n",
    "float(): This function can be used to convert a value to a floating-point number. It takes a single argument and returns a floating-point representation of that value. If the argument cannot be converted to a float, it raises a ValueError.\n",
    "Example:\n",
    "value = \"3.14\"\n",
    "float_value = float(value)\n",
    "print(float_value)  # Output: 3.14\n",
    "\n",
    "String Conversion Function:\n",
    "str(): This function can be used to convert a value to its string representation. It takes a single argument and returns a string representation of that value. It can convert integers, floating-point numbers, and other data types to strings.\n",
    "Example:\n",
    "value = 42\n",
    "string_value = str(value)\n",
    "print(string_value)  # Output: '42'"
   ]
  },
  {
   "cell_type": "markdown",
   "metadata": {},
   "source": [
    "## Question 10 \n",
    "Explain why the following expression causes an error and suggest how to fix it:<br>\n",
    "'I have eaten ' + 99 + ' burritos.'\n",
    "\n"
   ]
  },
  {
   "cell_type": "code",
   "execution_count": null,
   "metadata": {},
   "outputs": [],
   "source": [
    "The expression 'I have eaten ' + 99 + ' burritos.' causes an error because it attempts to concatenate a string with an integer value directly. \n",
    "\n",
    "To fix this error, we can convert the integer value '99' to a string before concatenating it with the other strings. \n",
    "\n",
    "'I have eaten ' + str(99) + ' burritos.'\n"
   ]
  },
  {
   "cell_type": "markdown",
   "metadata": {},
   "source": [
    "## Question 11\n",
    "Write a Python program to calculate the sum of two numbers and print the result.\n",
    "gative, or zero."
   ]
  },
  {
   "cell_type": "code",
   "execution_count": null,
   "metadata": {},
   "outputs": [],
   "source": [
    "num1 = float(input(\"Enter the first number: \"))\n",
    "num2 = float(input(\"Enter the second number: \"))\n",
    "sum = num1 + num2\n",
    "print(\"The sum of\", num1, \"and\", num2, \"is\", sum)\n"
   ]
  },
  {
   "cell_type": "markdown",
   "metadata": {},
   "source": [
    "## Question 12\n",
    "Create a Python program that takes the user's name as input and prints a greeting message.\n",
    "\n"
   ]
  },
  {
   "cell_type": "code",
   "execution_count": null,
   "metadata": {},
   "outputs": [],
   "source": [
    "\n",
    "name = input(\"Enter your name: \")\n",
    "print(\"Hello,\", name + \"! Welcome to the Python Internship.\")\n"
   ]
  },
  {
   "cell_type": "markdown",
   "metadata": {},
   "source": [
    "## Question 13\n",
    "Write a Python program to calculate the area of a rectangle given its length and width. (Assume length and width are provided as inputs.)\n",
    "\n"
   ]
  },
  {
   "cell_type": "code",
   "execution_count": null,
   "metadata": {},
   "outputs": [],
   "source": [
    "\n",
    "length = float(input(\"Enter the length of the rectangle: \"))\n",
    "width = float(input(\"Enter the width of the rectangle: \"))\n",
    "area = length * width\n",
    "print(\"The area of the rectangle with length\", length, \"and width\", width, \"is\", area)\n"
   ]
  },
  {
   "cell_type": "markdown",
   "metadata": {},
   "source": [
    "## Question 14\n",
    "Create a Python program that asks the user for their age and prints out a message saying whether they are a child, teenager, or adult based on their age.\n",
    "\n"
   ]
  },
  {
   "cell_type": "code",
   "execution_count": null,
   "metadata": {},
   "outputs": [],
   "source": [
    "\n",
    "age = int(input(\"Enter your age: \"))\n",
    "if age < 13:\n",
    "    print(\"You are a child.\")\n",
    "elif age < 20:\n",
    "    print(\"You are a teenager.\")\n",
    "else:\n",
    "    print(\"You are an adult.\")\n"
   ]
  },
  {
   "cell_type": "markdown",
   "metadata": {},
   "source": [
    "## Question 15\n",
    "Write a Python program to convert temperature from Celsius to Fahrenheit. (Assume Celsius temperature is provided as input.)\n",
    "\n"
   ]
  },
  {
   "cell_type": "code",
   "execution_count": null,
   "metadata": {},
   "outputs": [],
   "source": [
    "\n",
    "celsius = float(input(\"Enter the temperature in Celsius: \"))\n",
    "fahrenheit = (celsius * 9/5) + 32\n",
    "print(\"The temperature in Fahrenheit is:\", fahrenheit)\n"
   ]
  },
  {
   "cell_type": "markdown",
   "metadata": {},
   "source": [
    "## Question 16\n",
    "Create a Python program that takes the radius of a circle as input and calculates its area. (Assume the value of pi is 3.14.)\n",
    "\n"
   ]
  },
  {
   "cell_type": "code",
   "execution_count": null,
   "metadata": {},
   "outputs": [],
   "source": [
    "\n",
    "radius = float(input(\"Enter the radius of the circle: \"))\n",
    "pi = 3.14\n",
    "area = pi * radius ** 2\n",
    "print(\"The area of the circle with radius\", radius, \"is\", area)\n"
   ]
  },
  {
   "cell_type": "markdown",
   "metadata": {},
   "source": [
    "## Question 17\n",
    "Write a Python program to find the maximum of two numbers entered by the user.\n",
    "\n"
   ]
  },
  {
   "cell_type": "code",
   "execution_count": null,
   "metadata": {},
   "outputs": [],
   "source": [
    "num1 = float(input(\"Enter the first number: \"))\n",
    "num2 = float(input(\"Enter the second number: \"))\n",
    "if(num1>num2):\n",
    "    print(\"The greater number is \",num1)\n",
    "elif(num2>num1):\n",
    "    print(\"The greater number is \",num2)\n",
    "else:\n",
    "    print(\"Both numbers are equal\")"
   ]
  },
  {
   "cell_type": "markdown",
   "metadata": {},
   "source": [
    "## Question 18\n",
    "Create a Python program that asks the user to enter two numbers and prints out their product.\n",
    "\n"
   ]
  },
  {
   "cell_type": "code",
   "execution_count": null,
   "metadata": {},
   "outputs": [],
   "source": [
    "num1 = float(input(\"Enter the first number: \"))\n",
    "num2 = float(input(\"Enter the second number: \"))\n",
    "product = num1 * num2\n",
    "print(\"The product of\", num1, \"and\", num2, \"is\", product)\n"
   ]
  },
  {
   "cell_type": "markdown",
   "metadata": {},
   "source": [
    "## Question 19\n",
    "Write a Python program that prompts the user to enter a number and then prints whether the number is positive, negative, or zero."
   ]
  },
  {
   "cell_type": "code",
   "execution_count": null,
   "metadata": {},
   "outputs": [],
   "source": [
    "number = float(input(\"Enter a number: \"))\n",
    "if number > 0:\n",
    "    print(\"The number is positive.\")\n",
    "elif number < 0:\n",
    "    print(\"The number is negative.\")\n",
    "else:\n",
    "    print(\"The number is zero.\")\n"
   ]
  }
 ],
 "metadata": {
  "anaconda-cloud": {},
  "kernelspec": {
   "display_name": "Python 3 (ipykernel)",
   "language": "python",
   "name": "python3"
  },
  "language_info": {
   "codemirror_mode": {
    "name": "ipython",
    "version": 3
   },
   "file_extension": ".py",
   "mimetype": "text/x-python",
   "name": "python",
   "nbconvert_exporter": "python",
   "pygments_lexer": "ipython3",
   "version": "3.11.5"
  }
 },
 "nbformat": 4,
 "nbformat_minor": 4
}
